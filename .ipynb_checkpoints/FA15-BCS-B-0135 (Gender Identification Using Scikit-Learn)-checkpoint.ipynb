{
 "cells": [
  {
   "cell_type": "markdown",
   "metadata": {},
   "source": [
    "# Gender Identification Using Scikit-Learn"
   ]
  },
  {
   "cell_type": "markdown",
   "metadata": {},
   "source": [
    "## Step 1: Import Libraries"
   ]
  },
  {
   "cell_type": "code",
   "execution_count": 1,
   "metadata": {},
   "outputs": [],
   "source": [
    "import re\n",
    "import scipy\n",
    "import string\n",
    "import pickle\n",
    "import pandas as pd\n",
    "import numpy as np\n",
    "import matplotlib.pyplot as plt\n",
    "from sklearn.feature_extraction.text import *\n",
    "from sklearn.preprocessing import LabelEncoder\n",
    "from sklearn import preprocessing\n",
    "from sklearn.linear_model import LogisticRegression\n",
    "from sklearn.ensemble import RandomForestClassifier\n",
    "from sklearn.svm import LinearSVC\n",
    "from sklearn.naive_bayes import BernoulliNB\n",
    "from sklearn.metrics import accuracy_score\n",
    "import seaborn as sns\n",
    "import string\n",
    "from sklearn.feature_extraction.text import CountVectorizer\n",
    "from prettytable import PrettyTable"
   ]
  },
  {
   "cell_type": "markdown",
   "metadata": {},
   "source": [
    "## Step 2: Read, Understand and Preprocess Train/ Test Data"
   ]
  },
  {
   "cell_type": "code",
   "execution_count": 2,
   "metadata": {},
   "outputs": [],
   "source": [
    "# Read from CSV Files\n",
    "trainFile = pd.read_excel('train.xlsx',Index=True)\n",
    "testFile = pd.read_excel('test.xlsx',Index=True)\n",
    "trainFile['comment_text'][1]=trainFile['comment_text'][1].replace('u','you') ## Mistaee in train file fix\n"
   ]
  },
  {
   "cell_type": "markdown",
   "metadata": {},
   "source": [
    "## Step 2.2: Understand Data "
   ]
  },
  {
   "cell_type": "code",
   "execution_count": 3,
   "metadata": {},
   "outputs": [
    {
     "name": "stdout",
     "output_type": "stream",
     "text": [
      "Train Data Set:\n",
      "\n",
      "              comment_text  gender\n",
      "0   r u cmng or u not cmng    male\n",
      "1               r you cmng  female\n",
      "2      I am fine, r u fine    male\n",
      "3             m fn and you  female\n",
      "4  my frnd is gr8, wll dn.    male\n",
      "5  my best friend is great  female\n",
      "\n",
      "\n",
      "\n",
      "\n",
      "Train Data Set Columns:\n",
      "\n",
      "Index(['comment_text', 'gender'], dtype='object')\n",
      "\n",
      " Number of Instances in Train Data Set: \n",
      "\n",
      "6\n"
     ]
    }
   ],
   "source": [
    "print(\"Train Data Set:\\n\")\n",
    "print (trainFile)\n",
    "print(\"\\n\\n\")\n",
    "print(\"\\nTrain Data Set Columns:\\n\")\n",
    "print(trainFile.columns)\n",
    "print(\"\\n Number of Instances in Train Data Set: \\n\")\n",
    "print(len(trainFile.index) )\n"
   ]
  },
  {
   "cell_type": "code",
   "execution_count": 4,
   "metadata": {},
   "outputs": [
    {
     "name": "stdout",
     "output_type": "stream",
     "text": [
      "\n",
      "Test Data Set:\n",
      "\n",
      "                         comment_text  gender\n",
      "0  plz go out, plz out with with frnd    male\n",
      "1             r u going to walk, r u?  female\n",
      "2                            r u fine    male\n",
      "3                        are you fine  female\n",
      "\n",
      "\n",
      "\n",
      "\n",
      "Test Data Set Columns:\n",
      "\n",
      "Index(['comment_text', 'gender'], dtype='object')\n",
      "\n",
      "Number of Instances in Test Data Set: \n",
      "\n",
      "4\n"
     ]
    }
   ],
   "source": [
    "print(\"\\nTest Data Set:\\n\")\n",
    "print (testFile)\n",
    "print(\"\\n\\n\")\n",
    "print(\"\\nTest Data Set Columns:\\n\")\n",
    "print(testFile.columns)\n",
    "print(\"\\nNumber of Instances in Test Data Set: \\n\")\n",
    "print(len(testFile.index))\n"
   ]
  },
  {
   "cell_type": "code",
   "execution_count": 5,
   "metadata": {},
   "outputs": [
    {
     "name": "stdout",
     "output_type": "stream",
     "text": [
      "\n",
      "Comments in Train Data Set having gender 'Male':\n",
      "\n",
      "              comment_text gender\n",
      "0   r u cmng or u not cmng   male\n",
      "2      I am fine, r u fine   male\n",
      "4  my frnd is gr8, wll dn.   male\n",
      "\n",
      "\n",
      "\n",
      "\n",
      "\n",
      "Comments in Train Data Set having gender 'Female':\n",
      "\n",
      "              comment_text  gender\n",
      "1               r you cmng  female\n",
      "3             m fn and you  female\n",
      "5  my best friend is great  female\n"
     ]
    }
   ],
   "source": [
    "print(\"\\nComments in Train Data Set having gender 'Male':\\n\")\n",
    "print(trainFile.loc[trainFile['gender']=='male'])\n",
    "print(\"\\n\\n\")\n",
    "print(\"\\n\\nComments in Train Data Set having gender 'Female':\\n\")\n",
    "print(trainFile.loc[trainFile['gender']=='female'])\n",
    "\n"
   ]
  },
  {
   "cell_type": "code",
   "execution_count": 6,
   "metadata": {},
   "outputs": [
    {
     "name": "stdout",
     "output_type": "stream",
     "text": [
      "\n",
      "Comments Test Data Set having gender 'Male':\n",
      "\n",
      "                         comment_text gender\n",
      "0  plz go out, plz out with with frnd   male\n",
      "2                            r u fine   male\n",
      "\n",
      "\n",
      "Comments Test Data Set having gender 'Female':\n",
      "\n",
      "              comment_text  gender\n",
      "1  r u going to walk, r u?  female\n",
      "3             are you fine  female\n"
     ]
    }
   ],
   "source": [
    "print(\"\\nComments Test Data Set having gender 'Male':\\n\")\n",
    "print(testFile.loc[trainFile['gender']=='male'])\n",
    "print(\"\\n\\nComments Test Data Set having gender 'Female':\\n\")\n",
    "print(testFile.loc[trainFile['gender']=='female'])\n"
   ]
  },
  {
   "cell_type": "code",
   "execution_count": 7,
   "metadata": {},
   "outputs": [
    {
     "name": "stdout",
     "output_type": "stream",
     "text": [
      "\n",
      "Word used by Male in Train Data Set\n",
      "\n"
     ]
    },
    {
     "data": {
      "text/plain": [
       "u        3\n",
       "r        2\n",
       "cmng     2\n",
       "fine     1\n",
       "I        1\n",
       "dn.      1\n",
       "or       1\n",
       "am       1\n",
       "fine,    1\n",
       "wll      1\n",
       "gr8,     1\n",
       "frnd     1\n",
       "not      1\n",
       "is       1\n",
       "my       1\n",
       "dtype: int64"
      ]
     },
     "execution_count": 7,
     "metadata": {},
     "output_type": "execute_result"
    }
   ],
   "source": [
    "print(\"\\nWord used by Male in Train Data Set\\n\")\n",
    "count_male=trainFile.loc[trainFile['gender']=='male']['comment_text'].str.split(expand=True).stack().value_counts()\n",
    "count_male"
   ]
  },
  {
   "cell_type": "code",
   "execution_count": 8,
   "metadata": {},
   "outputs": [
    {
     "name": "stdout",
     "output_type": "stream",
     "text": [
      "\n",
      "Word used by Female in Train Data Set\n",
      "\n"
     ]
    },
    {
     "data": {
      "text/plain": [
       "you       2\n",
       "m         1\n",
       "great     1\n",
       "and       1\n",
       "fn        1\n",
       "r         1\n",
       "my        1\n",
       "friend    1\n",
       "is        1\n",
       "cmng      1\n",
       "best      1\n",
       "dtype: int64"
      ]
     },
     "execution_count": 8,
     "metadata": {},
     "output_type": "execute_result"
    }
   ],
   "source": [
    "print(\"\\nWord used by Female in Train Data Set\\n\")\n",
    "count_female=trainFile.loc[trainFile['gender']=='female']['comment_text'].str.split(expand=True).stack().value_counts()\n",
    "count_female"
   ]
  },
  {
   "cell_type": "code",
   "execution_count": 9,
   "metadata": {},
   "outputs": [
    {
     "name": "stdout",
     "output_type": "stream",
     "text": [
      "\n",
      "Word used by male in Test Data Set\n",
      "\n"
     ]
    },
    {
     "data": {
      "text/plain": [
       "with    2\n",
       "plz     2\n",
       "r       1\n",
       "fine    1\n",
       "out     1\n",
       "u       1\n",
       "go      1\n",
       "frnd    1\n",
       "out,    1\n",
       "dtype: int64"
      ]
     },
     "execution_count": 9,
     "metadata": {},
     "output_type": "execute_result"
    }
   ],
   "source": [
    "print(\"\\nWord used by male in Test Data Set\\n\")\n",
    "count_test_male=testFile.loc[testFile['gender']=='male']['comment_text'].str.split(expand=True).stack().value_counts()\n",
    "count_test_male"
   ]
  },
  {
   "cell_type": "code",
   "execution_count": 10,
   "metadata": {},
   "outputs": [
    {
     "name": "stdout",
     "output_type": "stream",
     "text": [
      "\n",
      "Word used by Female in Test Data Set\n",
      "\n"
     ]
    },
    {
     "data": {
      "text/plain": [
       "r        2\n",
       "going    1\n",
       "you      1\n",
       "fine     1\n",
       "u        1\n",
       "u?       1\n",
       "walk,    1\n",
       "to       1\n",
       "are      1\n",
       "dtype: int64"
      ]
     },
     "execution_count": 10,
     "metadata": {},
     "output_type": "execute_result"
    }
   ],
   "source": [
    "print(\"\\nWord used by Female in Test Data Set\\n\")\n",
    "count_test_female=testFile.loc[testFile['gender']=='female']['comment_text'].str.split(expand=True).stack().value_counts()\n",
    "count_test_female"
   ]
  },
  {
   "cell_type": "markdown",
   "metadata": {},
   "source": [
    "##  Understand Data Via Graph"
   ]
  },
  {
   "cell_type": "code",
   "execution_count": 11,
   "metadata": {},
   "outputs": [
    {
     "name": "stdout",
     "output_type": "stream",
     "text": [
      "Bar graph of Male words in Train Data set\n"
     ]
    },
    {
     "data": {
      "text/plain": [
       "<matplotlib.axes._subplots.AxesSubplot at 0xb1d86d8>"
      ]
     },
     "execution_count": 11,
     "metadata": {},
     "output_type": "execute_result"
    },
    {
     "data": {
      "image/png": "[encoded data removed]",
      "text/plain": [
       "<Figure size 432x288 with 1 Axes>"
      ]
     },
     "metadata": {},
     "output_type": "display_data"
    }
   ],
   "source": [
    "print(\"Bar graph of Male words in Train Data set\")\n",
    "sns.barplot(x=count_male.index,y=count_male)"
   ]
  },
  {
   "cell_type": "code",
   "execution_count": 12,
   "metadata": {},
   "outputs": [
    {
     "name": "stdout",
     "output_type": "stream",
     "text": [
      "Bar graph of Femalale words in Train Data set\n"
     ]
    },
    {
     "data": {
      "text/plain": [
       "<matplotlib.axes._subplots.AxesSubplot at 0xb53b7f0>"
      ]
     },
     "execution_count": 12,
     "metadata": {},
     "output_type": "execute_result"
    },
    {
     "data": {
      "image/png": "[encoded data removed]",
      "text/plain": [
       "<Figure size 432x288 with 1 Axes>"
      ]
     },
     "metadata": {},
     "output_type": "display_data"
    }
   ],
   "source": [
    "print(\"Bar graph of Femalale words in Train Data set\")\n",
    "sns.barplot(x=count_female.index,y=count_female)"
   ]
  },
  {
   "cell_type": "code",
   "execution_count": 13,
   "metadata": {},
   "outputs": [
    {
     "name": "stdout",
     "output_type": "stream",
     "text": [
      "Bar graph of Male words in Test Data set\n"
     ]
    },
    {
     "data": {
      "text/plain": [
       "<matplotlib.axes._subplots.AxesSubplot at 0xb53b4a8>"
      ]
     },
     "execution_count": 13,
     "metadata": {},
     "output_type": "execute_result"
    },
    {
     "data": {
      "image/png": "[encoded data removed]",
      "text/plain": [
       "<Figure size 432x288 with 1 Axes>"
      ]
     },
     "metadata": {},
     "output_type": "display_data"
    }
   ],
   "source": [
    "print(\"Bar graph of Male words in Test Data set\")\n",
    "sns.barplot(x=count_test_male.index,y=count_test_male)"
   ]
  },
  {
   "cell_type": "code",
   "execution_count": 14,
   "metadata": {},
   "outputs": [
    {
     "name": "stdout",
     "output_type": "stream",
     "text": [
      "Bar graph of Female words in Test Data set\n"
     ]
    },
    {
     "data": {
      "text/plain": [
       "<matplotlib.axes._subplots.AxesSubplot at 0xb663668>"
      ]
     },
     "execution_count": 14,
     "metadata": {},
     "output_type": "execute_result"
    },
    {
     "data": {
      "image/png": "[encoded data removed]",
      "text/plain": [
       "<Figure size 432x288 with 1 Axes>"
      ]
     },
     "metadata": {},
     "output_type": "display_data"
    }
   ],
   "source": [
    "print(\"Bar graph of Female words in Test Data set\")\n",
    "sns.barplot(x=count_test_female.index,y=count_test_female)"
   ]
  },
  {
   "cell_type": "markdown",
   "metadata": {},
   "source": [
    "## Step 2.3: Preprocess Data"
   ]
  },
  {
   "cell_type": "code",
   "execution_count": 15,
   "metadata": {},
   "outputs": [
    {
     "name": "stdout",
     "output_type": "stream",
     "text": [
      "Train Dataset before Preprocessing:\n",
      " \n",
      "              comment_text  gender\n",
      "0   r u cmng or u not cmng    male\n",
      "1               r you cmng  female\n",
      "2      I am fine, r u fine    male\n",
      "3             m fn and you  female\n",
      "4  my frnd is gr8, wll dn.    male\n",
      "5  my best friend is great  female\n",
      "\n",
      "\n",
      "Train Dataset after Preprocessing:\n",
      " \n",
      "              comment_text  gender\n",
      "0   r u cmng or u not cmng    male\n",
      "1               r you cmng  female\n",
      "2       I am fine r u fine    male\n",
      "3             m fn and you  female\n",
      "4    my frnd is gr8 wll dn    male\n",
      "5  my best friend is great  female\n"
     ]
    }
   ],
   "source": [
    "print(\"Train Dataset before Preprocessing:\\n \")\n",
    "print(trainFile)\n",
    "print(\"\\n\")\n",
    "print(\"Train Dataset after Preprocessing:\\n \")\n",
    "trainFile['comment_text']=trainFile['comment_text'].str.replace(',','')\n",
    "trainFile['comment_text']=trainFile['comment_text'].str.replace('.','')\n",
    "print(trainFile)\n"
   ]
  },
  {
   "cell_type": "code",
   "execution_count": 16,
   "metadata": {},
   "outputs": [
    {
     "name": "stdout",
     "output_type": "stream",
     "text": [
      "Test Dataset before Preprocessing:\n",
      " \n",
      "                         comment_text  gender\n",
      "0  plz go out, plz out with with frnd    male\n",
      "1             r u going to walk, r u?  female\n",
      "2                            r u fine    male\n",
      "3                        are you fine  female\n",
      "\n",
      "\n",
      "Test Dataset after Preprocessing:\n",
      " \n",
      "                        comment_text  gender\n",
      "0  plz go out plz out with with frnd    male\n",
      "1              r u going to walk r u  female\n",
      "2                           r u fine    male\n",
      "3                       are you fine  female\n"
     ]
    }
   ],
   "source": [
    "print(\"Test Dataset before Preprocessing:\\n \")\n",
    "print(testFile)\n",
    "print(\"\\n\")\n",
    "print(\"Test Dataset after Preprocessing:\\n \")\n",
    "testFile['comment_text']=testFile['comment_text'].str.replace(',','')\n",
    "testFile['comment_text']=testFile['comment_text'].str.replace('?','')\n",
    "print(testFile)\n"
   ]
  },
  {
   "cell_type": "markdown",
   "metadata": {},
   "source": [
    "## Step 3: Label Encoding for Train/Test Data"
   ]
  },
  {
   "cell_type": "code",
   "execution_count": 17,
   "metadata": {},
   "outputs": [
    {
     "name": "stdout",
     "output_type": "stream",
     "text": [
      "\n",
      " Gender Attribute Encoded in Train Dataset:\n",
      "\n",
      "   gender  encoded_gender\n",
      "0    male               1\n",
      "1  female               0\n",
      "2    male               1\n",
      "3  female               0\n",
      "4    male               1\n",
      "5  female               0\n"
     ]
    }
   ],
   "source": [
    "gender=preprocessing.LabelEncoder()\n",
    "gender.fit(trainFile['gender'])\n",
    "encoded_train=pd.DataFrame()\n",
    "encoded_train=trainFile.copy()\n",
    "encoded_train['encoded_gender']=gender.transform(trainFile['gender'])\n",
    "print(\"\\n Gender Attribute Encoded in Train Dataset:\\n\")\n",
    "print(encoded_train[['gender','encoded_gender']])\n"
   ]
  },
  {
   "cell_type": "code",
   "execution_count": 18,
   "metadata": {},
   "outputs": [
    {
     "name": "stdout",
     "output_type": "stream",
     "text": [
      "\n",
      " Original Train Data: \n",
      "\n",
      "              comment_text  gender\n",
      "0   r u cmng or u not cmng    male\n",
      "1               r you cmng  female\n",
      "2       I am fine r u fine    male\n",
      "3             m fn and you  female\n",
      "4    my frnd is gr8 wll dn    male\n",
      "5  my best friend is great  female\n",
      "\n",
      "Train Data After Label Encoding\n",
      " \n",
      "              comment_text  gender\n",
      "0   r u cmng or u not cmng       1\n",
      "1               r you cmng       0\n",
      "2       I am fine r u fine       1\n",
      "3             m fn and you       0\n",
      "4    my frnd is gr8 wll dn       1\n",
      "5  my best friend is great       0\n"
     ]
    }
   ],
   "source": [
    "print(\"\\n Original Train Data: \\n\")\n",
    "print(trainFile)\n",
    "print(\"\\nTrain Data After Label Encoding\\n \")\n",
    "encoded_train['gender']=encoded_train['encoded_gender']\n",
    "\n",
    "encoded_train.drop(['encoded_gender'], axis=1,inplace=True)\n",
    "#encoded_train.rename(columns={'encoded_hair':'hair','encoded_beard':'beard','encoded_scarf':'scarf','encoded_gender':'gender'},inplace=True)\n",
    "print(encoded_train)\n",
    "\n",
    "\n"
   ]
  },
  {
   "cell_type": "code",
   "execution_count": 19,
   "metadata": {},
   "outputs": [],
   "source": [
    "gender.fit(testFile['gender'])\n",
    "encoded_test=pd.DataFrame()\n",
    "encoded_test=testFile.copy()\n",
    "encoded_test['gender']=gender.transform(testFile['gender'])\n"
   ]
  },
  {
   "cell_type": "code",
   "execution_count": 20,
   "metadata": {},
   "outputs": [
    {
     "name": "stdout",
     "output_type": "stream",
     "text": [
      "\n",
      "Original Test Data:\n",
      "\n",
      "                        comment_text  gender\n",
      "0  plz go out plz out with with frnd    male\n",
      "1              r u going to walk r u  female\n",
      "2                           r u fine    male\n",
      "3                       are you fine  female\n",
      "\n",
      "Test Data After Label Encoding:\n",
      "\n",
      "                        comment_text  gender\n",
      "0  plz go out plz out with with frnd       1\n",
      "1              r u going to walk r u       0\n",
      "2                           r u fine       1\n",
      "3                       are you fine       0\n"
     ]
    }
   ],
   "source": [
    "print(\"\\nOriginal Test Data:\\n\")\n",
    "print(testFile)\n",
    "print(\"\\nTest Data After Label Encoding:\\n\")\n",
    "print(encoded_test)\n"
   ]
  },
  {
   "cell_type": "markdown",
   "metadata": {},
   "source": [
    "## Step 4 & 5: Feature Extraction + Train ML Algorithm using Train Data"
   ]
  },
  {
   "cell_type": "code",
   "execution_count": 21,
   "metadata": {},
   "outputs": [],
   "source": [
    "vect= CountVectorizer(strip_accents='unicode',analyzer='word',token_pattern=r'\\w{1,}',ngram_range=(1, 1),\n",
    "max_features=10,stop_words='english')"
   ]
  },
  {
   "cell_type": "code",
   "execution_count": 22,
   "metadata": {},
   "outputs": [
    {
     "name": "stdout",
     "output_type": "stream",
     "text": [
      "Parameters of TFidVectorizer and its Value\n"
     ]
    },
    {
     "data": {
      "text/plain": [
       "CountVectorizer(analyzer='word', binary=False, decode_error='strict',\n",
       "        dtype=<class 'numpy.int64'>, encoding='utf-8', input='content',\n",
       "        lowercase=True, max_df=1.0, max_features=10, min_df=1,\n",
       "        ngram_range=(1, 1), preprocessor=None, stop_words='english',\n",
       "        strip_accents='unicode', token_pattern='\\\\w{1,}', tokenizer=None,\n",
       "        vocabulary=None)"
      ]
     },
     "execution_count": 22,
     "metadata": {},
     "output_type": "execute_result"
    }
   ],
   "source": [
    "print('Parameters of TFidVectorizer and its Value')\n",
    "vect"
   ]
  },
  {
   "cell_type": "code",
   "execution_count": 23,
   "metadata": {},
   "outputs": [
    {
     "data": {
      "text/html": [
       "<div>\n",
       "<style scoped>\n",
       "    .dataframe tbody tr th:only-of-type {\n",
       "        vertical-align: middle;\n",
       "    }\n",
       "\n",
       "    .dataframe tbody tr th {\n",
       "        vertical-align: top;\n",
       "    }\n",
       "\n",
       "    .dataframe thead th {\n",
       "        text-align: right;\n",
       "    }\n",
       "</style>\n",
       "<table border=\"1\" class=\"dataframe\">\n",
       "  <thead>\n",
       "    <tr style=\"text-align: right;\">\n",
       "      <th></th>\n",
       "      <th>comment_text</th>\n",
       "      <th>gender</th>\n",
       "    </tr>\n",
       "  </thead>\n",
       "  <tbody>\n",
       "    <tr>\n",
       "      <th>0</th>\n",
       "      <td>r u cmng or u not cmng</td>\n",
       "      <td>1</td>\n",
       "    </tr>\n",
       "    <tr>\n",
       "      <th>1</th>\n",
       "      <td>r you cmng</td>\n",
       "      <td>0</td>\n",
       "    </tr>\n",
       "    <tr>\n",
       "      <th>2</th>\n",
       "      <td>I am fine r u fine</td>\n",
       "      <td>1</td>\n",
       "    </tr>\n",
       "    <tr>\n",
       "      <th>3</th>\n",
       "      <td>m fn and you</td>\n",
       "      <td>0</td>\n",
       "    </tr>\n",
       "    <tr>\n",
       "      <th>4</th>\n",
       "      <td>my frnd is gr8 wll dn</td>\n",
       "      <td>1</td>\n",
       "    </tr>\n",
       "    <tr>\n",
       "      <th>5</th>\n",
       "      <td>my best friend is great</td>\n",
       "      <td>0</td>\n",
       "    </tr>\n",
       "    <tr>\n",
       "      <th>0</th>\n",
       "      <td>plz go out plz out with with frnd</td>\n",
       "      <td>1</td>\n",
       "    </tr>\n",
       "    <tr>\n",
       "      <th>1</th>\n",
       "      <td>r u going to walk r u</td>\n",
       "      <td>0</td>\n",
       "    </tr>\n",
       "    <tr>\n",
       "      <th>2</th>\n",
       "      <td>r u fine</td>\n",
       "      <td>1</td>\n",
       "    </tr>\n",
       "    <tr>\n",
       "      <th>3</th>\n",
       "      <td>are you fine</td>\n",
       "      <td>0</td>\n",
       "    </tr>\n",
       "  </tbody>\n",
       "</table>\n",
       "</div>"
      ],
      "text/plain": [
       "                        comment_text  gender\n",
       "0             r u cmng or u not cmng       1\n",
       "1                         r you cmng       0\n",
       "2                 I am fine r u fine       1\n",
       "3                       m fn and you       0\n",
       "4              my frnd is gr8 wll dn       1\n",
       "5            my best friend is great       0\n",
       "0  plz go out plz out with with frnd       1\n",
       "1              r u going to walk r u       0\n",
       "2                           r u fine       1\n",
       "3                       are you fine       0"
      ]
     },
     "execution_count": 23,
     "metadata": {},
     "output_type": "execute_result"
    }
   ],
   "source": [
    "combined_data=pd.concat([encoded_train,encoded_test])\n",
    "combined_data"
   ]
  },
  {
   "cell_type": "code",
   "execution_count": 24,
   "metadata": {},
   "outputs": [
    {
     "data": {
      "text/plain": [
       "CountVectorizer(analyzer='word', binary=False, decode_error='strict',\n",
       "        dtype=<class 'numpy.int64'>, encoding='utf-8', input='content',\n",
       "        lowercase=True, max_df=1.0, max_features=10, min_df=1,\n",
       "        ngram_range=(1, 1), preprocessor=None, stop_words='english',\n",
       "        strip_accents='unicode', token_pattern='\\\\w{1,}', tokenizer=None,\n",
       "        vocabulary=None)"
      ]
     },
     "execution_count": 24,
     "metadata": {},
     "output_type": "execute_result"
    }
   ],
   "source": [
    "vect.fit(combined_data['comment_text'])"
   ]
  },
  {
   "cell_type": "code",
   "execution_count": 25,
   "metadata": {},
   "outputs": [
    {
     "name": "stdout",
     "output_type": "stream",
     "text": [
      "Shapes of features\n",
      "\n",
      "\n",
      "Train Data shape\n",
      "(6, 10)\n",
      "\n",
      "Test Data shape\n",
      "(4, 10)\n"
     ]
    }
   ],
   "source": [
    "print('Shapes of features\\n')\n",
    "train=vect.transform(encoded_train['comment_text'])\n",
    "print(\"\\nTrain Data shape\")\n",
    "print(train.shape)\n",
    "test=vect.transform(encoded_test['comment_text'])\n",
    "print(\"\\nTest Data shape\")\n",
    "print(test.shape)"
   ]
  },
  {
   "cell_type": "code",
   "execution_count": 26,
   "metadata": {},
   "outputs": [
    {
     "name": "stdout",
     "output_type": "stream",
     "text": [
      "Train features before gender columns\n"
     ]
    },
    {
     "data": {
      "text/html": [
       "<div>\n",
       "<style scoped>\n",
       "    .dataframe tbody tr th:only-of-type {\n",
       "        vertical-align: middle;\n",
       "    }\n",
       "\n",
       "    .dataframe tbody tr th {\n",
       "        vertical-align: top;\n",
       "    }\n",
       "\n",
       "    .dataframe thead th {\n",
       "        text-align: right;\n",
       "    }\n",
       "</style>\n",
       "<table border=\"1\" class=\"dataframe\">\n",
       "  <thead>\n",
       "    <tr style=\"text-align: right;\">\n",
       "      <th></th>\n",
       "      <th>best</th>\n",
       "      <th>cmng</th>\n",
       "      <th>dn</th>\n",
       "      <th>fine</th>\n",
       "      <th>fn</th>\n",
       "      <th>friend</th>\n",
       "      <th>frnd</th>\n",
       "      <th>plz</th>\n",
       "      <th>r</th>\n",
       "      <th>u</th>\n",
       "    </tr>\n",
       "  </thead>\n",
       "  <tbody>\n",
       "    <tr>\n",
       "      <th>0</th>\n",
       "      <td>0</td>\n",
       "      <td>2</td>\n",
       "      <td>0</td>\n",
       "      <td>0</td>\n",
       "      <td>0</td>\n",
       "      <td>0</td>\n",
       "      <td>0</td>\n",
       "      <td>0</td>\n",
       "      <td>1</td>\n",
       "      <td>2</td>\n",
       "    </tr>\n",
       "    <tr>\n",
       "      <th>1</th>\n",
       "      <td>0</td>\n",
       "      <td>1</td>\n",
       "      <td>0</td>\n",
       "      <td>0</td>\n",
       "      <td>0</td>\n",
       "      <td>0</td>\n",
       "      <td>0</td>\n",
       "      <td>0</td>\n",
       "      <td>1</td>\n",
       "      <td>0</td>\n",
       "    </tr>\n",
       "    <tr>\n",
       "      <th>2</th>\n",
       "      <td>0</td>\n",
       "      <td>0</td>\n",
       "      <td>0</td>\n",
       "      <td>2</td>\n",
       "      <td>0</td>\n",
       "      <td>0</td>\n",
       "      <td>0</td>\n",
       "      <td>0</td>\n",
       "      <td>1</td>\n",
       "      <td>1</td>\n",
       "    </tr>\n",
       "    <tr>\n",
       "      <th>3</th>\n",
       "      <td>0</td>\n",
       "      <td>0</td>\n",
       "      <td>0</td>\n",
       "      <td>0</td>\n",
       "      <td>1</td>\n",
       "      <td>0</td>\n",
       "      <td>0</td>\n",
       "      <td>0</td>\n",
       "      <td>0</td>\n",
       "      <td>0</td>\n",
       "    </tr>\n",
       "    <tr>\n",
       "      <th>4</th>\n",
       "      <td>0</td>\n",
       "      <td>0</td>\n",
       "      <td>1</td>\n",
       "      <td>0</td>\n",
       "      <td>0</td>\n",
       "      <td>0</td>\n",
       "      <td>1</td>\n",
       "      <td>0</td>\n",
       "      <td>0</td>\n",
       "      <td>0</td>\n",
       "    </tr>\n",
       "    <tr>\n",
       "      <th>5</th>\n",
       "      <td>1</td>\n",
       "      <td>0</td>\n",
       "      <td>0</td>\n",
       "      <td>0</td>\n",
       "      <td>0</td>\n",
       "      <td>1</td>\n",
       "      <td>0</td>\n",
       "      <td>0</td>\n",
       "      <td>0</td>\n",
       "      <td>0</td>\n",
       "    </tr>\n",
       "  </tbody>\n",
       "</table>\n",
       "</div>"
      ],
      "text/plain": [
       "   best  cmng  dn  fine  fn  friend  frnd  plz  r  u\n",
       "0     0     2   0     0   0       0     0    0  1  2\n",
       "1     0     1   0     0   0       0     0    0  1  0\n",
       "2     0     0   0     2   0       0     0    0  1  1\n",
       "3     0     0   0     0   1       0     0    0  0  0\n",
       "4     0     0   1     0   0       0     1    0  0  0\n",
       "5     1     0   0     0   0       1     0    0  0  0"
      ]
     },
     "execution_count": 26,
     "metadata": {},
     "output_type": "execute_result"
    }
   ],
   "source": [
    "print('Train features before gender columns')\n",
    "df_train=pd.DataFrame(data=train.toarray(),columns=vect.get_feature_names())\n",
    "df_train"
   ]
  },
  {
   "cell_type": "code",
   "execution_count": 27,
   "metadata": {},
   "outputs": [
    {
     "name": "stdout",
     "output_type": "stream",
     "text": [
      "Test features before gender columns\n"
     ]
    },
    {
     "data": {
      "text/html": [
       "<div>\n",
       "<style scoped>\n",
       "    .dataframe tbody tr th:only-of-type {\n",
       "        vertical-align: middle;\n",
       "    }\n",
       "\n",
       "    .dataframe tbody tr th {\n",
       "        vertical-align: top;\n",
       "    }\n",
       "\n",
       "    .dataframe thead th {\n",
       "        text-align: right;\n",
       "    }\n",
       "</style>\n",
       "<table border=\"1\" class=\"dataframe\">\n",
       "  <thead>\n",
       "    <tr style=\"text-align: right;\">\n",
       "      <th></th>\n",
       "      <th>best</th>\n",
       "      <th>cmng</th>\n",
       "      <th>dn</th>\n",
       "      <th>fine</th>\n",
       "      <th>fn</th>\n",
       "      <th>friend</th>\n",
       "      <th>frnd</th>\n",
       "      <th>plz</th>\n",
       "      <th>r</th>\n",
       "      <th>u</th>\n",
       "    </tr>\n",
       "  </thead>\n",
       "  <tbody>\n",
       "    <tr>\n",
       "      <th>0</th>\n",
       "      <td>0</td>\n",
       "      <td>0</td>\n",
       "      <td>0</td>\n",
       "      <td>0</td>\n",
       "      <td>0</td>\n",
       "      <td>0</td>\n",
       "      <td>1</td>\n",
       "      <td>2</td>\n",
       "      <td>0</td>\n",
       "      <td>0</td>\n",
       "    </tr>\n",
       "    <tr>\n",
       "      <th>1</th>\n",
       "      <td>0</td>\n",
       "      <td>0</td>\n",
       "      <td>0</td>\n",
       "      <td>0</td>\n",
       "      <td>0</td>\n",
       "      <td>0</td>\n",
       "      <td>0</td>\n",
       "      <td>0</td>\n",
       "      <td>2</td>\n",
       "      <td>2</td>\n",
       "    </tr>\n",
       "    <tr>\n",
       "      <th>2</th>\n",
       "      <td>0</td>\n",
       "      <td>0</td>\n",
       "      <td>0</td>\n",
       "      <td>1</td>\n",
       "      <td>0</td>\n",
       "      <td>0</td>\n",
       "      <td>0</td>\n",
       "      <td>0</td>\n",
       "      <td>1</td>\n",
       "      <td>1</td>\n",
       "    </tr>\n",
       "    <tr>\n",
       "      <th>3</th>\n",
       "      <td>0</td>\n",
       "      <td>0</td>\n",
       "      <td>0</td>\n",
       "      <td>1</td>\n",
       "      <td>0</td>\n",
       "      <td>0</td>\n",
       "      <td>0</td>\n",
       "      <td>0</td>\n",
       "      <td>0</td>\n",
       "      <td>0</td>\n",
       "    </tr>\n",
       "  </tbody>\n",
       "</table>\n",
       "</div>"
      ],
      "text/plain": [
       "   best  cmng  dn  fine  fn  friend  frnd  plz  r  u\n",
       "0     0     0   0     0   0       0     1    2  0  0\n",
       "1     0     0   0     0   0       0     0    0  2  2\n",
       "2     0     0   0     1   0       0     0    0  1  1\n",
       "3     0     0   0     1   0       0     0    0  0  0"
      ]
     },
     "execution_count": 27,
     "metadata": {},
     "output_type": "execute_result"
    }
   ],
   "source": [
    "print('Test features before gender columns')\n",
    "df_test=pd.DataFrame(data=test.toarray(),columns=vect.get_feature_names())\n",
    "df_test"
   ]
  },
  {
   "cell_type": "code",
   "execution_count": 28,
   "metadata": {},
   "outputs": [],
   "source": [
    "df_train['gender']=encoded_train['gender']\n",
    "df_test['gender']=encoded_test['gender']"
   ]
  },
  {
   "cell_type": "code",
   "execution_count": 29,
   "metadata": {},
   "outputs": [
    {
     "name": "stdout",
     "output_type": "stream",
     "text": [
      "Train features after gender columns\n"
     ]
    },
    {
     "data": {
      "text/html": [
       "<div>\n",
       "<style scoped>\n",
       "    .dataframe tbody tr th:only-of-type {\n",
       "        vertical-align: middle;\n",
       "    }\n",
       "\n",
       "    .dataframe tbody tr th {\n",
       "        vertical-align: top;\n",
       "    }\n",
       "\n",
       "    .dataframe thead th {\n",
       "        text-align: right;\n",
       "    }\n",
       "</style>\n",
       "<table border=\"1\" class=\"dataframe\">\n",
       "  <thead>\n",
       "    <tr style=\"text-align: right;\">\n",
       "      <th></th>\n",
       "      <th>best</th>\n",
       "      <th>cmng</th>\n",
       "      <th>dn</th>\n",
       "      <th>fine</th>\n",
       "      <th>fn</th>\n",
       "      <th>friend</th>\n",
       "      <th>frnd</th>\n",
       "      <th>plz</th>\n",
       "      <th>r</th>\n",
       "      <th>u</th>\n",
       "      <th>gender</th>\n",
       "    </tr>\n",
       "  </thead>\n",
       "  <tbody>\n",
       "    <tr>\n",
       "      <th>0</th>\n",
       "      <td>0</td>\n",
       "      <td>2</td>\n",
       "      <td>0</td>\n",
       "      <td>0</td>\n",
       "      <td>0</td>\n",
       "      <td>0</td>\n",
       "      <td>0</td>\n",
       "      <td>0</td>\n",
       "      <td>1</td>\n",
       "      <td>2</td>\n",
       "      <td>1</td>\n",
       "    </tr>\n",
       "    <tr>\n",
       "      <th>1</th>\n",
       "      <td>0</td>\n",
       "      <td>1</td>\n",
       "      <td>0</td>\n",
       "      <td>0</td>\n",
       "      <td>0</td>\n",
       "      <td>0</td>\n",
       "      <td>0</td>\n",
       "      <td>0</td>\n",
       "      <td>1</td>\n",
       "      <td>0</td>\n",
       "      <td>0</td>\n",
       "    </tr>\n",
       "    <tr>\n",
       "      <th>2</th>\n",
       "      <td>0</td>\n",
       "      <td>0</td>\n",
       "      <td>0</td>\n",
       "      <td>2</td>\n",
       "      <td>0</td>\n",
       "      <td>0</td>\n",
       "      <td>0</td>\n",
       "      <td>0</td>\n",
       "      <td>1</td>\n",
       "      <td>1</td>\n",
       "      <td>1</td>\n",
       "    </tr>\n",
       "    <tr>\n",
       "      <th>3</th>\n",
       "      <td>0</td>\n",
       "      <td>0</td>\n",
       "      <td>0</td>\n",
       "      <td>0</td>\n",
       "      <td>1</td>\n",
       "      <td>0</td>\n",
       "      <td>0</td>\n",
       "      <td>0</td>\n",
       "      <td>0</td>\n",
       "      <td>0</td>\n",
       "      <td>0</td>\n",
       "    </tr>\n",
       "    <tr>\n",
       "      <th>4</th>\n",
       "      <td>0</td>\n",
       "      <td>0</td>\n",
       "      <td>1</td>\n",
       "      <td>0</td>\n",
       "      <td>0</td>\n",
       "      <td>0</td>\n",
       "      <td>1</td>\n",
       "      <td>0</td>\n",
       "      <td>0</td>\n",
       "      <td>0</td>\n",
       "      <td>1</td>\n",
       "    </tr>\n",
       "    <tr>\n",
       "      <th>5</th>\n",
       "      <td>1</td>\n",
       "      <td>0</td>\n",
       "      <td>0</td>\n",
       "      <td>0</td>\n",
       "      <td>0</td>\n",
       "      <td>1</td>\n",
       "      <td>0</td>\n",
       "      <td>0</td>\n",
       "      <td>0</td>\n",
       "      <td>0</td>\n",
       "      <td>0</td>\n",
       "    </tr>\n",
       "  </tbody>\n",
       "</table>\n",
       "</div>"
      ],
      "text/plain": [
       "   best  cmng  dn  fine  fn  friend  frnd  plz  r  u  gender\n",
       "0     0     2   0     0   0       0     0    0  1  2       1\n",
       "1     0     1   0     0   0       0     0    0  1  0       0\n",
       "2     0     0   0     2   0       0     0    0  1  1       1\n",
       "3     0     0   0     0   1       0     0    0  0  0       0\n",
       "4     0     0   1     0   0       0     1    0  0  0       1\n",
       "5     1     0   0     0   0       1     0    0  0  0       0"
      ]
     },
     "execution_count": 29,
     "metadata": {},
     "output_type": "execute_result"
    }
   ],
   "source": [
    "print('Train features after gender columns')\n",
    "df_train"
   ]
  },
  {
   "cell_type": "code",
   "execution_count": 30,
   "metadata": {},
   "outputs": [
    {
     "name": "stdout",
     "output_type": "stream",
     "text": [
      "Test features after gender columns\n"
     ]
    },
    {
     "data": {
      "text/html": [
       "<div>\n",
       "<style scoped>\n",
       "    .dataframe tbody tr th:only-of-type {\n",
       "        vertical-align: middle;\n",
       "    }\n",
       "\n",
       "    .dataframe tbody tr th {\n",
       "        vertical-align: top;\n",
       "    }\n",
       "\n",
       "    .dataframe thead th {\n",
       "        text-align: right;\n",
       "    }\n",
       "</style>\n",
       "<table border=\"1\" class=\"dataframe\">\n",
       "  <thead>\n",
       "    <tr style=\"text-align: right;\">\n",
       "      <th></th>\n",
       "      <th>best</th>\n",
       "      <th>cmng</th>\n",
       "      <th>dn</th>\n",
       "      <th>fine</th>\n",
       "      <th>fn</th>\n",
       "      <th>friend</th>\n",
       "      <th>frnd</th>\n",
       "      <th>plz</th>\n",
       "      <th>r</th>\n",
       "      <th>u</th>\n",
       "      <th>gender</th>\n",
       "    </tr>\n",
       "  </thead>\n",
       "  <tbody>\n",
       "    <tr>\n",
       "      <th>0</th>\n",
       "      <td>0</td>\n",
       "      <td>0</td>\n",
       "      <td>0</td>\n",
       "      <td>0</td>\n",
       "      <td>0</td>\n",
       "      <td>0</td>\n",
       "      <td>1</td>\n",
       "      <td>2</td>\n",
       "      <td>0</td>\n",
       "      <td>0</td>\n",
       "      <td>1</td>\n",
       "    </tr>\n",
       "    <tr>\n",
       "      <th>1</th>\n",
       "      <td>0</td>\n",
       "      <td>0</td>\n",
       "      <td>0</td>\n",
       "      <td>0</td>\n",
       "      <td>0</td>\n",
       "      <td>0</td>\n",
       "      <td>0</td>\n",
       "      <td>0</td>\n",
       "      <td>2</td>\n",
       "      <td>2</td>\n",
       "      <td>0</td>\n",
       "    </tr>\n",
       "    <tr>\n",
       "      <th>2</th>\n",
       "      <td>0</td>\n",
       "      <td>0</td>\n",
       "      <td>0</td>\n",
       "      <td>1</td>\n",
       "      <td>0</td>\n",
       "      <td>0</td>\n",
       "      <td>0</td>\n",
       "      <td>0</td>\n",
       "      <td>1</td>\n",
       "      <td>1</td>\n",
       "      <td>1</td>\n",
       "    </tr>\n",
       "    <tr>\n",
       "      <th>3</th>\n",
       "      <td>0</td>\n",
       "      <td>0</td>\n",
       "      <td>0</td>\n",
       "      <td>1</td>\n",
       "      <td>0</td>\n",
       "      <td>0</td>\n",
       "      <td>0</td>\n",
       "      <td>0</td>\n",
       "      <td>0</td>\n",
       "      <td>0</td>\n",
       "      <td>0</td>\n",
       "    </tr>\n",
       "  </tbody>\n",
       "</table>\n",
       "</div>"
      ],
      "text/plain": [
       "   best  cmng  dn  fine  fn  friend  frnd  plz  r  u  gender\n",
       "0     0     0   0     0   0       0     1    2  0  0       1\n",
       "1     0     0   0     0   0       0     0    0  2  2       0\n",
       "2     0     0   0     1   0       0     0    0  1  1       1\n",
       "3     0     0   0     1   0       0     0    0  0  0       0"
      ]
     },
     "execution_count": 30,
     "metadata": {},
     "output_type": "execute_result"
    }
   ],
   "source": [
    "print('Test features after gender columns')\n",
    "df_test"
   ]
  },
  {
   "cell_type": "code",
   "execution_count": 31,
   "metadata": {},
   "outputs": [
    {
     "name": "stdout",
     "output_type": "stream",
     "text": [
      "Shapes of features\n",
      "\n",
      "\n",
      "Train Data shape\n",
      "(6, 11)\n",
      "\n",
      "Test Data shape\n",
      "(4, 11)\n"
     ]
    }
   ],
   "source": [
    "print('Shapes of features\\n')\n",
    "train=vect.transform(encoded_train['comment_text'])\n",
    "print(\"\\nTrain Data shape\")\n",
    "print(df_train.shape)\n",
    "test=vect.transform(encoded_test['comment_text'])\n",
    "print(\"\\nTest Data shape\")\n",
    "print(df_test.shape)"
   ]
  },
  {
   "cell_type": "code",
   "execution_count": 32,
   "metadata": {},
   "outputs": [
    {
     "name": "stdout",
     "output_type": "stream",
     "text": [
      "\n",
      "Parameter and their values: \n",
      "\n"
     ]
    },
    {
     "data": {
      "text/plain": [
       "RandomForestClassifier(bootstrap=True, class_weight=None, criterion='gini',\n",
       "            max_depth=None, max_features='auto', max_leaf_nodes=None,\n",
       "            min_impurity_decrease=0.0, min_impurity_split=None,\n",
       "            min_samples_leaf=1, min_samples_split=2,\n",
       "            min_weight_fraction_leaf=0.0, n_estimators='warn', n_jobs=None,\n",
       "            oob_score=False, random_state=None, verbose=0,\n",
       "            warm_start=False)"
      ]
     },
     "execution_count": 32,
     "metadata": {},
     "output_type": "execute_result"
    }
   ],
   "source": [
    "print(\"\\nParameter and their values: \\n\")\n",
    "RandomForestClassifier()\n"
   ]
  },
  {
   "cell_type": "code",
   "execution_count": 33,
   "metadata": {},
   "outputs": [
    {
     "name": "stdout",
     "output_type": "stream",
     "text": [
      "\n",
      "Parameter and their values: \n",
      "\n"
     ]
    },
    {
     "data": {
      "text/plain": [
       "LinearSVC(C=1.0, class_weight=None, dual=True, fit_intercept=True,\n",
       "     intercept_scaling=1, loss='squared_hinge', max_iter=1000,\n",
       "     multi_class='ovr', penalty='l2', random_state=None, tol=0.0001,\n",
       "     verbose=0)"
      ]
     },
     "execution_count": 33,
     "metadata": {},
     "output_type": "execute_result"
    }
   ],
   "source": [
    "print(\"\\nParameter and their values: \\n\")\n",
    "LinearSVC()\n"
   ]
  },
  {
   "cell_type": "code",
   "execution_count": 34,
   "metadata": {},
   "outputs": [
    {
     "name": "stdout",
     "output_type": "stream",
     "text": [
      "\n",
      "Parameters and their values: \n",
      "\n"
     ]
    },
    {
     "data": {
      "text/plain": [
       "BernoulliNB(alpha=1.0, binarize=0.0, class_prior=None, fit_prior=True)"
      ]
     },
     "execution_count": 34,
     "metadata": {},
     "output_type": "execute_result"
    }
   ],
   "source": [
    "print(\"\\nParameters and their values: \\n\")\n",
    "BernoulliNB()\n"
   ]
  },
  {
   "cell_type": "markdown",
   "metadata": {},
   "source": [
    "## Training of Dataset Using Different ML Algorithms"
   ]
  },
  {
   "cell_type": "code",
   "execution_count": 35,
   "metadata": {},
   "outputs": [],
   "source": [
    "input_train_data= df_train[vect.get_feature_names()]\n",
    "output_train_label=df_train['gender']"
   ]
  },
  {
   "cell_type": "code",
   "execution_count": 36,
   "metadata": {},
   "outputs": [
    {
     "name": "stderr",
     "output_type": "stream",
     "text": [
      "c:\\users\\wassaf\\appdata\\local\\programs\\python\\python36\\lib\\site-packages\\sklearn\\linear_model\\logistic.py:432: FutureWarning: Default solver will be changed to 'lbfgs' in 0.22. Specify a solver to silence this warning.\n",
      "  FutureWarning)\n"
     ]
    }
   ],
   "source": [
    "# Train using LogisticRegression Algorithm\n",
    "logistic_regression=LogisticRegression()\n",
    "logistic_regression=logistic_regression.fit(input_train_data,output_train_label)\n"
   ]
  },
  {
   "cell_type": "code",
   "execution_count": 37,
   "metadata": {},
   "outputs": [
    {
     "name": "stderr",
     "output_type": "stream",
     "text": [
      "c:\\users\\wassaf\\appdata\\local\\programs\\python\\python36\\lib\\site-packages\\sklearn\\ensemble\\forest.py:248: FutureWarning: The default value of n_estimators will change from 10 in version 0.20 to 100 in 0.22.\n",
      "  \"10 in version 0.20 to 100 in 0.22.\", FutureWarning)\n"
     ]
    }
   ],
   "source": [
    "# Train using RandomForestClassifier Algorithm\n",
    "random_forest=RandomForestClassifier()\n",
    "random_forest=random_forest.fit(input_train_data,output_train_label)\n"
   ]
  },
  {
   "cell_type": "code",
   "execution_count": 38,
   "metadata": {},
   "outputs": [],
   "source": [
    "# Train using LinearSVC Algorithm\n",
    "linear_svc=LinearSVC()\n",
    "linear_svc=linear_svc.fit(input_train_data,output_train_label)\n"
   ]
  },
  {
   "cell_type": "code",
   "execution_count": 39,
   "metadata": {},
   "outputs": [],
   "source": [
    "#Train using BernoulliNB Algorithm\n",
    "bernoulli=BernoulliNB()\n",
    "bernoulli=bernoulli.fit(input_train_data,output_train_label)\n"
   ]
  },
  {
   "cell_type": "markdown",
   "metadata": {},
   "source": [
    "## Step 6: Test/Evaluate ML Algorithm using Test Data"
   ]
  },
  {
   "cell_type": "code",
   "execution_count": 40,
   "metadata": {},
   "outputs": [
    {
     "name": "stdout",
     "output_type": "stream",
     "text": [
      "\n",
      "Prediction using Logistic Regression:\n",
      " \n",
      "                        comment_text  gender predicted_gender\n",
      "0  plz go out plz out with with frnd    male             male\n",
      "1              r u going to walk r u  female             male\n",
      "2                           r u fine    male             male\n",
      "3                       are you fine  female             male\n",
      "\n",
      "Accuraccy Score=  0.5\n"
     ]
    }
   ],
   "source": [
    "# Logistic Regression Prediction\n",
    "input_test_data= df_test[vect.get_feature_names()]\n",
    "y_true=df_test['gender']\n",
    "y_pred=list(logistic_regression.predict(input_test_data))\n",
    "predicted_logistic=testFile.copy()\n",
    "predicted_logistic['predicted_gender']=list(gender.inverse_transform(y_pred))\n",
    "print(\"\\nPrediction using Logistic Regression:\\n \")\n",
    "print(predicted_logistic)\n",
    "score = round(logistic_regression.score(input_test_data,y_true),2)\n",
    "print(\"\\nAccuraccy Score= \", score)\n",
    "\n"
   ]
  },
  {
   "cell_type": "code",
   "execution_count": 41,
   "metadata": {},
   "outputs": [
    {
     "name": "stdout",
     "output_type": "stream",
     "text": [
      "\n",
      "Prediction using Random Forest Classifier: \n",
      "\n",
      "                        comment_text  gender predicted_gender\n",
      "0  plz go out plz out with with frnd    male             male\n",
      "1              r u going to walk r u  female             male\n",
      "2                           r u fine    male             male\n",
      "3                       are you fine  female           female\n",
      "\n",
      " Accuraccy Score=  0.75\n"
     ]
    }
   ],
   "source": [
    "# Random Forest Prediction\n",
    "y_pred=list(random_forest.predict(input_test_data))\n",
    "predicted_randomForest=testFile.copy()\n",
    "predicted_randomForest['predicted_gender']=list(gender.inverse_transform(y_pred))\n",
    "print(\"\\nPrediction using Random Forest Classifier: \\n\")\n",
    "print(predicted_randomForest)\n",
    "score = round(random_forest.score(input_test_data,y_true),2)\n",
    "print(\"\\n Accuraccy Score= \", score)\n"
   ]
  },
  {
   "cell_type": "code",
   "execution_count": 42,
   "metadata": {},
   "outputs": [
    {
     "name": "stdout",
     "output_type": "stream",
     "text": [
      "\n",
      " Prediction using LinearSVC:\n",
      " \n",
      "                        comment_text  gender predicted_gender\n",
      "0  plz go out plz out with with frnd    male             male\n",
      "1              r u going to walk r u  female             male\n",
      "2                           r u fine    male             male\n",
      "3                       are you fine  female           female\n",
      "\n",
      "Accuraccy Score=  0.75\n"
     ]
    }
   ],
   "source": [
    "#Linear SVC Prediction\n",
    "y_pred=list(linear_svc.predict(input_test_data))\n",
    "predicted_linearSVC=testFile.copy()\n",
    "predicted_linearSVC['predicted_gender']=list(gender.inverse_transform(y_pred))\n",
    "print(\"\\n Prediction using LinearSVC:\\n \")\n",
    "print(predicted_linearSVC)\n",
    "score = round(linear_svc.score(input_test_data,y_true),2)\n",
    "print(\"\\nAccuraccy Score= \", score)\n"
   ]
  },
  {
   "cell_type": "code",
   "execution_count": 43,
   "metadata": {},
   "outputs": [
    {
     "name": "stdout",
     "output_type": "stream",
     "text": [
      "\n",
      " Prediction using BernoulliNB: \n",
      "\n",
      "                        comment_text  gender predicted_gender\n",
      "0  plz go out plz out with with frnd    male           female\n",
      "1              r u going to walk r u  female             male\n",
      "2                           r u fine    male             male\n",
      "3                       are you fine  female           female\n",
      "\n",
      "Accuraccy Score=  0.5\n"
     ]
    }
   ],
   "source": [
    "#BernoulliNB Prediction\n",
    "y_pred=list(bernoulli.predict(input_test_data))\n",
    "predicted_bernoulli=testFile.copy()\n",
    "predicted_bernoulli['predicted_gender']=list(gender.inverse_transform(y_pred))\n",
    "print(\"\\n Prediction using BernoulliNB: \\n\")\n",
    "print(predicted_bernoulli)\n",
    "score = round(bernoulli.score(input_test_data,y_true),2)\n",
    "print(\"\\nAccuraccy Score= \", score)\n"
   ]
  },
  {
   "cell_type": "markdown",
   "metadata": {},
   "source": [
    "## Step 7: Selection of Best Model"
   ]
  },
  {
   "cell_type": "code",
   "execution_count": 44,
   "metadata": {},
   "outputs": [
    {
     "name": "stdout",
     "output_type": "stream",
     "text": [
      "\n",
      "Detailed Performance of all Models\n",
      "==================================\n",
      "\n",
      "+------------------------+----------+\n",
      "|         Model          | Accuracy |\n",
      "+------------------------+----------+\n",
      "|   LogisticRegression   |   0.5    |\n",
      "| RandomForestClassifier |   0.75   |\n",
      "|       LinearSVC        |   0.75   |\n",
      "|      BernoulliNB       |   0.5    |\n",
      "+------------------------+----------+\n",
      "\n",
      "Best Model\n",
      "==================================\n",
      "\n",
      "+-----------+----------+\n",
      "|   Model   | Accuracy |\n",
      "+-----------+----------+\n",
      "| LinearSVC |   0.75   |\n",
      "+-----------+----------+\n"
     ]
    }
   ],
   "source": [
    "x = PrettyTable()\n",
    "print(\"\\nDetailed Performance of all Models\\n==================================\\n\")\n",
    "x.field_names=[\"Model\",\"Accuracy\"]\n",
    "x.add_row([\"LogisticRegression\",logistic_regression.score(input_test_data,y_true)])\n",
    "x.add_row([\"RandomForestClassifier\",random_forest.score(input_test_data,y_true)])\n",
    "x.add_row([\"LinearSVC\",linear_svc.score(input_test_data,y_true)])\n",
    "x.add_row([\"BernoulliNB\",bernoulli.score(input_test_data,y_true)])\n",
    "\n",
    "print(x)\n",
    "\n",
    "print(\"\\nBest Model\\n==================================\\n\")\n",
    "y = PrettyTable()\n",
    "y.field_names=[\"Model\",\"Accuracy\"]\n",
    "y.add_row([\"LinearSVC\",linear_svc.score(input_test_data,y_true)])\n",
    "print(y)\n"
   ]
  },
  {
   "cell_type": "markdown",
   "metadata": {},
   "source": [
    "# Step 8: Application Phase"
   ]
  },
  {
   "cell_type": "markdown",
   "metadata": {},
   "source": [
    "## Step 8.1: Combine Data (Train + Test)"
   ]
  },
  {
   "cell_type": "code",
   "execution_count": 45,
   "metadata": {},
   "outputs": [
    {
     "name": "stdout",
     "output_type": "stream",
     "text": [
      "\n",
      "Train Feature in the form of DataFrame\n",
      "\n",
      "   best  cmng  dn  fine  fn  friend  frnd  plz  r  u  gender\n",
      "0     0     2   0     0   0       0     0    0  1  2       1\n",
      "1     0     1   0     0   0       0     0    0  1  0       0\n",
      "2     0     0   0     2   0       0     0    0  1  1       1\n",
      "3     0     0   0     0   1       0     0    0  0  0       0\n",
      "4     0     0   1     0   0       0     1    0  0  0       1\n",
      "5     1     0   0     0   0       1     0    0  0  0       0\n"
     ]
    }
   ],
   "source": [
    "print(\"\\nTrain Feature in the form of DataFrame\\n\")\n",
    "print(df_train)\n",
    "\n"
   ]
  },
  {
   "cell_type": "code",
   "execution_count": 46,
   "metadata": {},
   "outputs": [
    {
     "name": "stdout",
     "output_type": "stream",
     "text": [
      "\n",
      "Test Feature in the form of DataFrame\n",
      "\n",
      "   best  cmng  dn  fine  fn  friend  frnd  plz  r  u  gender\n",
      "0     0     0   0     0   0       0     1    2  0  0       1\n",
      "1     0     0   0     0   0       0     0    0  2  2       0\n",
      "2     0     0   0     1   0       0     0    0  1  1       1\n",
      "3     0     0   0     1   0       0     0    0  0  0       0\n"
     ]
    }
   ],
   "source": [
    "print(\"\\nTest Feature in the form of DataFrame\\n\")\n",
    "print(df_test)\n"
   ]
  },
  {
   "cell_type": "code",
   "execution_count": 47,
   "metadata": {},
   "outputs": [
    {
     "name": "stdout",
     "output_type": "stream",
     "text": [
      "\n",
      "All Features in the form of DataFrame\n",
      "\n",
      "   best  cmng  dn  fine  fn  friend  frnd  plz  r  u  gender\n",
      "0     0     2   0     0   0       0     0    0  1  2       1\n",
      "1     0     1   0     0   0       0     0    0  1  0       0\n",
      "2     0     0   0     2   0       0     0    0  1  1       1\n",
      "3     0     0   0     0   1       0     0    0  0  0       0\n",
      "4     0     0   1     0   0       0     1    0  0  0       1\n",
      "5     1     0   0     0   0       1     0    0  0  0       0\n",
      "0     0     0   0     0   0       0     1    2  0  0       1\n",
      "1     0     0   0     0   0       0     0    0  2  2       0\n",
      "2     0     0   0     1   0       0     0    0  1  1       1\n",
      "3     0     0   0     1   0       0     0    0  0  0       0\n"
     ]
    }
   ],
   "source": [
    "print(\"\\nAll Features in the form of DataFrame\\n\")\n",
    "data=pd.concat([df_train,df_test])\n",
    "print(data)\n"
   ]
  },
  {
   "cell_type": "markdown",
   "metadata": {},
   "source": [
    "## Step 8.2: Train Best Model on All Data"
   ]
  },
  {
   "cell_type": "code",
   "execution_count": 48,
   "metadata": {},
   "outputs": [
    {
     "data": {
      "text/plain": [
       "LinearSVC(C=1.0, class_weight=None, dual=True, fit_intercept=True,\n",
       "     intercept_scaling=1, loss='squared_hinge', max_iter=1000,\n",
       "     multi_class='ovr', penalty='l2', random_state=None, tol=0.0001,\n",
       "     verbose=0)"
      ]
     },
     "execution_count": 48,
     "metadata": {},
     "output_type": "execute_result"
    }
   ],
   "source": [
    "\n",
    "linear_svc"
   ]
  },
  {
   "cell_type": "code",
   "execution_count": 49,
   "metadata": {},
   "outputs": [],
   "source": [
    "input_all_data= data[vect.get_feature_names()]\n",
    "output_all_label=data['gender']\n",
    "linear_svc=LinearSVC()\n",
    "linear_svc=linear_svc.fit(input_all_data,output_all_label)\n"
   ]
  },
  {
   "cell_type": "markdown",
   "metadata": {},
   "source": [
    "## Step 9: Make Prediction on Unseen/ New Data"
   ]
  },
  {
   "cell_type": "markdown",
   "metadata": {},
   "source": [
    "## Step 9.1: Load Trained Model"
   ]
  },
  {
   "cell_type": "code",
   "execution_count": 50,
   "metadata": {},
   "outputs": [],
   "source": [
    "full_TrainedModel = 'Model.pickle'\n",
    "pickle.dump(linear_svc,open(full_TrainedModel,'wb'))\n",
    "linear = pickle.load(open(full_TrainedModel,'rb'))\n"
   ]
  },
  {
   "cell_type": "markdown",
   "metadata": {},
   "source": [
    "## Step 9.2: Take Input From User"
   ]
  },
  {
   "cell_type": "code",
   "execution_count": 51,
   "metadata": {},
   "outputs": [
    {
     "name": "stdout",
     "output_type": "stream",
     "text": [
      "Please Enter your Comment Here: plz go out, plz out with with frn\n"
     ]
    }
   ],
   "source": [
    "comment = str(input(\"Please Enter your Comment Here: \"))"
   ]
  },
  {
   "cell_type": "markdown",
   "metadata": {},
   "source": [
    "## Step 9.3: Convert User Input into Feature Vector And apply Model"
   ]
  },
  {
   "cell_type": "code",
   "execution_count": 52,
   "metadata": {},
   "outputs": [
    {
     "name": "stdout",
     "output_type": "stream",
     "text": [
      "Feature Vector:\n",
      " \n",
      "['best', 'cmng', 'dn', 'fine', 'fn', 'friend', 'frnd', 'plz', 'r', 'u']\n",
      "\n",
      "\n",
      "   best  cmng  dn  fine  fn  friend  frnd  plz  r  u\n",
      "0     0     0   0     0   0       0     0    2  0  0\n"
     ]
    }
   ],
   "source": [
    "Input = comment.replace(',','')\n",
    "comment = vect.transform([Input])\n",
    "print (\"Feature Vector:\\n \")\n",
    "print(vect.get_feature_names())\n",
    "print(\"\\n\")\n",
    "input_comment = pd.DataFrame(data = comment.toarray() , columns = vect.get_feature_names())\n",
    "print(input_comment)"
   ]
  },
  {
   "cell_type": "code",
   "execution_count": 54,
   "metadata": {},
   "outputs": [
    {
     "name": "stdout",
     "output_type": "stream",
     "text": [
      "Male\n"
     ]
    }
   ],
   "source": [
    "A = linear.predict(input_comment)\n",
    "if A==1:\n",
    "    print(\"Male\")\n",
    "else:\n",
    "    print(\"Female\")"
   ]
  },
  {
   "cell_type": "code",
   "execution_count": null,
   "metadata": {},
   "outputs": [],
   "source": []
  }
 ],
 "metadata": {
  "kernelspec": {
   "display_name": "Python 3",
   "language": "python",
   "name": "python3"
  },
  "language_info": {
   "codemirror_mode": {
    "name": "ipython",
    "version": 3
   },
   "file_extension": ".py",
   "mimetype": "text/x-python",
   "name": "python",
   "nbconvert_exporter": "python",
   "pygments_lexer": "ipython3",
   "version": "3.6.4"
  }
 },
 "nbformat": 4,
 "nbformat_minor": 2
}
